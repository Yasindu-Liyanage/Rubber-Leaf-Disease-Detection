{
 "cells": [
  {
   "cell_type": "code",
   "execution_count": null,
   "id": "1a233b9d-a004-411b-8871-09d37b7ed471",
   "metadata": {},
   "outputs": [],
   "source": []
  }
 ],
 "metadata": {
  "kernelspec": {
   "display_name": "",
   "name": ""
  },
  "language_info": {
   "name": ""
  }
 },
 "nbformat": 4,
 "nbformat_minor": 5
}
