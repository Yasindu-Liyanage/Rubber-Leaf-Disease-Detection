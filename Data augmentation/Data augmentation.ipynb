{
 "cells": [
  {
   "cell_type": "code",
   "execution_count": 1,
   "id": "daf64e1f-c9d4-41c1-aa16-4aa6aeca4cae",
   "metadata": {},
   "outputs": [],
   "source": [
    "import os\n",
    "import cv2\n",
    "import numpy as np\n",
    "from tensorflow.keras.preprocessing.image import ImageDataGenerator\n"
   ]
  },
  {
   "cell_type": "code",
   "execution_count": 2,
   "id": "c9591c08-2542-4ddd-a81e-3f29998d15f2",
   "metadata": {},
   "outputs": [],
   "source": [
    "# Set paths\n",
    "dataset_path = \"dataset/data/\"\n",
    "augmented_path = \"dataset/augmented_train/\""
   ]
  },
  {
   "cell_type": "code",
   "execution_count": 3,
   "id": "2afc7001-5066-451a-bbe9-bb721de7f8b8",
   "metadata": {},
   "outputs": [],
   "source": [
    "\n",
    "# Define categories\n",
    "categories = [\"healthy\", \"powdery_mildew\", \"new_disease\"]"
   ]
  },
  {
   "cell_type": "code",
   "execution_count": 4,
   "id": "4f3848e5-9ce7-4e3c-8e15-5144f9216cbf",
   "metadata": {},
   "outputs": [],
   "source": [
    "# Create output folders\n",
    "for category in categories:\n",
    "    os.makedirs(os.path.join(augmented_path, category), exist_ok=True)"
   ]
  },
  {
   "cell_type": "code",
   "execution_count": 5,
   "id": "eabe217b-d28e-4d35-9501-b393a5defb56",
   "metadata": {},
   "outputs": [],
   "source": [
    "# Data augmentation settings\n",
    "datagen = ImageDataGenerator(\n",
    "    rotation_range=40,\n",
    "    width_shift_range=0.2,\n",
    "    height_shift_range=0.2,\n",
    "    shear_range=0.2,\n",
    "    zoom_range=0.2,\n",
    "    horizontal_flip=True,\n",
    "    brightness_range=[0.5, 1.5],\n",
    "    fill_mode=\"nearest\"\n",
    ")"
   ]
  },
  {
   "cell_type": "code",
   "execution_count": 6,
   "id": "20698054-f9fe-4c70-bafd-f6aad8a22ed2",
   "metadata": {},
   "outputs": [
    {
     "name": "stdout",
     "output_type": "stream",
     "text": [
      "Data Augmentation Complete\n"
     ]
    }
   ],
   "source": [
    "# Generate images\n",
    "for category in categories:\n",
    "    img_folder = os.path.join(dataset_path, category)\n",
    "    save_folder = os.path.join(augmented_path, category)\n",
    "\n",
    "    for img_name in os.listdir(img_folder):\n",
    "        img_path = os.path.join(img_folder, img_name)\n",
    "        img = cv2.imread(img_path)\n",
    "        img = cv2.resize(img, (224, 224))  # Resize images to 224x224\n",
    "        img = np.expand_dims(img, axis=0)  # Add batch dimension\n",
    "\n",
    "        i = 0\n",
    "        for batch in datagen.flow(img, batch_size=1, save_to_dir=save_folder, save_prefix=\"aug\", save_format=\"jpg\"):\n",
    "            i += 1\n",
    "            if i >= 50:  # Generate 50 new images per original image\n",
    "                break\n",
    "\n",
    "print(\"Data Augmentation Complete\")"
   ]
  },
  {
   "cell_type": "code",
   "execution_count": 7,
   "id": "902276cf-67bb-4c41-bf2a-f20ccd26537b",
   "metadata": {},
   "outputs": [
    {
     "name": "stdout",
     "output_type": "stream",
     "text": [
      "Dataset Split Completed\n"
     ]
    }
   ],
   "source": [
    "import os\n",
    "import shutil\n",
    "import random\n",
    "\n",
    "# Paths\n",
    "augmented_dataset = \"dataset/augmented_train/\"\n",
    "output_dataset = \"dataset_final/\"\n",
    "\n",
    "# Create train/val/test folders\n",
    "for subset in [\"train\", \"val\", \"test\"]:\n",
    "    for category in categories:\n",
    "        os.makedirs(os.path.join(output_dataset, subset, category), exist_ok=True)\n",
    "\n",
    "# Split dataset\n",
    "for category in categories:\n",
    "    img_files = os.listdir(os.path.join(augmented_dataset, category))\n",
    "    random.shuffle(img_files)\n",
    "\n",
    "    train_split = int(0.8 * len(img_files))\n",
    "    val_split = int(0.9 * len(img_files))\n",
    "\n",
    "    for i, file in enumerate(img_files):\n",
    "        src_path = os.path.join(augmented_dataset, category, file)\n",
    "\n",
    "        if i < train_split:\n",
    "            dest_path = os.path.join(output_dataset, \"train\", category, file)\n",
    "        elif i < val_split:\n",
    "            dest_path = os.path.join(output_dataset, \"val\", category, file)\n",
    "        else:\n",
    "            dest_path = os.path.join(output_dataset, \"test\", category, file)\n",
    "\n",
    "        shutil.copy(src_path, dest_path)\n",
    "\n",
    "print(\"Dataset Split Completed\")"
   ]
  },
  {
   "cell_type": "code",
   "execution_count": null,
   "id": "931242b9-c0b4-476d-b967-fb0710474d5d",
   "metadata": {},
   "outputs": [],
   "source": []
  },
  {
   "cell_type": "code",
   "execution_count": null,
   "id": "fec5f5b4-7b8f-471b-87ad-ac5c45499ba8",
   "metadata": {},
   "outputs": [],
   "source": []
  }
 ],
 "metadata": {
  "kernelspec": {
   "display_name": "Python 3 (ipykernel)",
   "language": "python",
   "name": "python3"
  },
  "language_info": {
   "codemirror_mode": {
    "name": "ipython",
    "version": 3
   },
   "file_extension": ".py",
   "mimetype": "text/x-python",
   "name": "python",
   "nbconvert_exporter": "python",
   "pygments_lexer": "ipython3",
   "version": "3.12.2"
  }
 },
 "nbformat": 4,
 "nbformat_minor": 5
}
